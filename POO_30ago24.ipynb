{
  "nbformat": 4,
  "nbformat_minor": 0,
  "metadata": {
    "colab": {
      "provenance": [],
      "authorship_tag": "ABX9TyNz/CIROInT6ezY4c/PU88w",
      "include_colab_link": true
    },
    "kernelspec": {
      "name": "python3",
      "display_name": "Python 3"
    },
    "language_info": {
      "name": "python"
    }
  },
  "cells": [
    {
      "cell_type": "markdown",
      "metadata": {
        "id": "view-in-github",
        "colab_type": "text"
      },
      "source": [
        "<a href=\"https://colab.research.google.com/github/Muniz-Fer314159/POO-COO2024-2/blob/main/POO_30ago24.ipynb\" target=\"_parent\"><img src=\"https://colab.research.google.com/assets/colab-badge.svg\" alt=\"Open In Colab\"/></a>"
      ]
    },
    {
      "cell_type": "markdown",
      "source": [
        "EX01 - Trasformar farenheit para celcius"
      ],
      "metadata": {
        "id": "eLcqLM5neuxv"
      }
    },
    {
      "cell_type": "code",
      "source": [
        "F = float(input(\"Escreva o valor em Farenheit: \"))\n",
        "C = (5/9)*(F-32)\n",
        "print(f\"O valor de {F} Graus farenheit corresponte ao valor {C} graus C\")"
      ],
      "metadata": {
        "colab": {
          "base_uri": "https://localhost:8080/"
        },
        "id": "f4j_EDLBfbut",
        "outputId": "cd92ab9e-7dcc-4a31-ba58-65d76a1ba80b"
      },
      "execution_count": 6,
      "outputs": [
        {
          "output_type": "stream",
          "name": "stdout",
          "text": [
            "Escreva o valor em Farenheit: 50\n",
            "O valor de 50.0 Graus farenheit corresponte ao valor 10.0 graus C\n"
          ]
        }
      ]
    },
    {
      "cell_type": "markdown",
      "source": [
        "EX02 - Converter polegadas para mm"
      ],
      "metadata": {
        "id": "vc9wU5YQjp9W"
      }
    },
    {
      "cell_type": "code",
      "source": [
        "polegada = float(input(\"Escreva o valor em polegadas: \"))\n",
        "mm = polegada*25.4\n",
        "print(f\"O valor de {polegada} corresponde ao valor de {mm} mm\")"
      ],
      "metadata": {
        "colab": {
          "base_uri": "https://localhost:8080/"
        },
        "id": "9wyNzRnEj8S0",
        "outputId": "361969e1-dcda-4e07-c81b-0c2beb09d75e"
      },
      "execution_count": 7,
      "outputs": [
        {
          "output_type": "stream",
          "name": "stdout",
          "text": [
            "Escreva o valor em polegadas: 10\n",
            "O valor de 10.0 corresponde ao valor de 254.0 mm\n"
          ]
        }
      ]
    },
    {
      "cell_type": "markdown",
      "source": [
        "EX03 - Conferir se é melhor de idade"
      ],
      "metadata": {
        "id": "seo4h0b7m33n"
      }
    },
    {
      "cell_type": "code",
      "source": [
        "idade = int(input(\"Escreva a sua idade: \"))\n",
        "if idade >= 16 < 70:\n",
        "    print(f\"Você tem {idade} anos, você esta entre 16 a 70 anos e pode votar\")\n",
        "else:\n",
        "    print(f\"Você tem {idade} anos, portanto você esta fora da faixa de 16 a 70 anos não pode votar\")"
      ],
      "metadata": {
        "colab": {
          "base_uri": "https://localhost:8080/"
        },
        "id": "2uAN-yZply7t",
        "outputId": "4b41c76e-04f2-4270-b264-f05ae47660d8"
      },
      "execution_count": 16,
      "outputs": [
        {
          "output_type": "stream",
          "name": "stdout",
          "text": [
            "Escreva a sua idade: 18\n",
            "Você tem 18 anos, você esta entre 16 a 70 anos e pode votar\n"
          ]
        }
      ]
    }
  ]
}